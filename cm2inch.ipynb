from __future__ import absolute_import, division, print_function, unicode_literals
try:
  # Use the %tensorflow_version magic if in colab.
  %tensorflow_version 2.x
except Exception:
  pass

import tensorflow as tf
import numpy as np
import logging
logger = tf.get_logger()
logger.setLevel(logging.ERROR)
cm_q   = np.array([56,   65,    13,   34,    26,   22,   38,  254,   76,   43, 86 ],  dtype=float)
inc_a = np.array([22.05,  25.59, 5.12, 13.39, 10.24,8.66, 14.96, 100, 29.92, 16.93, 33.86],  dtype=float)

for i,c in enumerate(cm_q):
  print("{}  Cm = {}  inc".format(c, inc_a[i]))
  l0 = tf.keras.layers.Dense(units=1, input_shape=[1])
  model = tf.keras.Sequential([l0])
  model = tf.keras.Sequential([
  tf.keras.layers.Dense(units=1, input_shape=[1])
])
  model.compile(loss='mean_squared_error',
              optimizer=tf.keras.optimizers.Adam(0.1))
  history = model.fit(cm_q, inc_a, epochs=500, verbose=False)
  
print("Finished training the model")
import matplotlib.pyplot as plt
plt.xlabel('Epoch Number')
deger = int(input("deneme sayısı giriniz"))
plt.ylabel("Loss Magnitude")
plt.plot(history.history['loss'])
deger = int(input("cm giriniz"))
print(model.predict([deger]))
print (deger/2.54)
print("These are the layer variables: {}".format(l0.get_weights()))
